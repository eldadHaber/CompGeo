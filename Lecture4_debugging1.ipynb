{
  "nbformat": 4,
  "nbformat_minor": 0,
  "metadata": {
    "colab": {
      "provenance": []
    },
    "kernelspec": {
      "name": "python3",
      "display_name": "Python 3"
    },
    "language_info": {
      "name": "python"
    }
  },
  "cells": [
    {
      "cell_type": "code",
      "execution_count": 1,
      "metadata": {
        "id": "D9jXof3GM7YT"
      },
      "outputs": [],
      "source": [
        "import torch\n",
        "import numpy as np\n",
        "import matplotlib.pyplot as plt"
      ]
    },
    {
      "cell_type": "markdown",
      "source": [
        "In this lecture we start with the question of testing and debugging. We will do it in an interactive way. We will look at some programs and find errors in them and see how to fix them.\n",
        "\n",
        "We will do it with the following example.\n",
        "\n",
        "We know that\n",
        "$$ f(x+h) = f(x) + hf'(x) + {\\frac {h^2}2} f''(x) + {\\frac {h^3}6}f'''(x) + O(h^4) $$\n",
        "and\n",
        "$$ f(x-h) = f(x) - hf'(x) + {\\frac {h^2}2} f''(x) - {\\frac {h^3}6}f'''(x) + O(h^4) $$\n",
        "\n",
        "Adding the two equations together we obtain that\n",
        "$$ f(x+h) + f(x-h) = 2f(x) + h^2 f''(x) + O(h^4) $$\n",
        "\n",
        "A little manipulation and we obtain\n",
        "$$ {\\frac 1 {h^2}}\\left( f(x+h) -2f(x) + f(x-h) \\right) = f''(x) + O(h^2) $$\n",
        "\n",
        "The can be summarized by the following claim:\n",
        "\n",
        "**Claim:**\n",
        "Given a function $f(x)$ sampled on a uniform mesh\n",
        "$x_0, x_1, \\ldots, x_n$ with $x_{j+1}-x_j = h$\n",
        "then, a second order accurate approximation to the second derivative is\n",
        "$$ f'' \\approx h^{-2}(f_{j+1} - 2f_j + f_{j-1}) $$\n",
        "\n",
        "\n"
      ],
      "metadata": {
        "id": "bFdys_LOJsp6"
      }
    },
    {
      "cell_type": "markdown",
      "source": [
        "**From equations to code**\n",
        "\n",
        "You are given the code below. Make sure it works approprately"
      ],
      "metadata": {
        "id": "8BSi7-2ML7LX"
      }
    },
    {
      "cell_type": "code",
      "source": [
        "def d2fdx2(F,h):\n",
        "  # F is a collection of functions F = [f0, f1, f2,  .... fn]\n",
        "  # and we differentiate all these functions \n",
        "\n",
        "  D  = (F[1:,:] - F[:-1, :])/h\n",
        "  D2 = (D[1:,:] - D[:-1, :])\n",
        "\n",
        "  return D2"
      ],
      "metadata": {
        "id": "RMwy1hfHJ-iu"
      },
      "execution_count": 2,
      "outputs": []
    },
    {
      "cell_type": "code",
      "source": [
        "# Test if the code is working and fix it if not\n",
        "n = 128\n",
        "x = torch.linspace(0, 2*np.pi, n)\n",
        "h = x[1]-x[0]\n",
        "\n",
        "k = 1\n",
        "f0 = torch.sin(k*x)\n",
        "f1 = torch.cos(k*x)\n",
        "#plt.plot(x,f0,x,f1)\n",
        "\n",
        "f0 = f0.unsqueeze(1)\n",
        "f1 = f1.unsqueeze(1)\n",
        "F  = torch.cat((f0, f1), dim=1) \n",
        "\n",
        "#print(F.shape)\n",
        "\n",
        "# Call the code\n",
        "dF2 = d2fdx2(F,h)"
      ],
      "metadata": {
        "id": "Fb8bgYCyNb7B"
      },
      "execution_count": 3,
      "outputs": []
    },
    {
      "cell_type": "code",
      "source": [
        "print(F.shape)\n",
        "print(dF2.shape)"
      ],
      "metadata": {
        "colab": {
          "base_uri": "https://localhost:8080/"
        },
        "id": "kkoKZx0a9fqF",
        "outputId": "1b27ac63-64c4-4e78-a273-c16de30d9a97"
      },
      "execution_count": 4,
      "outputs": [
        {
          "output_type": "stream",
          "name": "stdout",
          "text": [
            "torch.Size([128, 2])\n",
            "torch.Size([126, 2])\n"
          ]
        }
      ]
    },
    {
      "cell_type": "code",
      "source": [],
      "metadata": {
        "id": "Wh1iFdunCZ8e"
      },
      "execution_count": null,
      "outputs": []
    }
  ]
}