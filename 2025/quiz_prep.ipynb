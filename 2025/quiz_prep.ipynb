{
  "nbformat": 4,
  "nbformat_minor": 0,
  "metadata": {
    "colab": {
      "provenance": []
    },
    "kernelspec": {
      "name": "python3",
      "display_name": "Python 3"
    },
    "language_info": {
      "name": "python"
    }
  },
  "cells": [
    {
      "cell_type": "code",
      "execution_count": null,
      "metadata": {
        "id": "b4VGNvfdjN2P"
      },
      "outputs": [],
      "source": [
        "import matplotlib.pyplot as plt\n",
        "import numpy as np\n",
        "import torch\n"
      ]
    },
    {
      "cell_type": "markdown",
      "source": [
        "**Generate and plot the following functions**\n",
        "\n",
        "1. $$y = {\\frac {\\sin(x)}{x}} \\quad -10 \\pi \\le x \\le 10 \\pi$$\n",
        "\n",
        "2. $$\n",
        "y = \\exp(x)*\\sin(x)  \\quad -\\pi \\le x \\le 1$$"
      ],
      "metadata": {
        "id": "ssRi8zhGjXUn"
      }
    },
    {
      "cell_type": "code",
      "source": [],
      "metadata": {
        "id": "xhzdYbudjVXn"
      },
      "execution_count": null,
      "outputs": []
    },
    {
      "cell_type": "markdown",
      "source": [
        "**A picture from a complex function**\n",
        "\n",
        "1. Generate a random matrix $A$ os size $10 \\times 20$\n",
        "\n",
        "2. Complete the function below. The function should compute\n",
        "$$ f(\\alpha) = {\\rm trace}((A^TA + \\alpha I)^{-1}) + \\alpha^2$$\n",
        "\n",
        "3. Produce a graph of $f(\\alpha)$ in loglog space where $\\alpha$ ranfes from $10^{-3}$ to $10^3$.\n",
        "\n",
        "4. Using your graph estimate the minimum of the function"
      ],
      "metadata": {
        "id": "VcFT1yb7kLaV"
      }
    },
    {
      "cell_type": "code",
      "source": [
        "def trace_of_inv(A, alpha):\n",
        "    # YOUR CODE HERE\n",
        "    return    # WHAT NEEDS TO BE RETURNED\n",
        "\n",
        "# estimate the function (finish the code and uncomment it)\n",
        "# alpha =\n",
        "#f = torch.zeros(len(alpha))\n",
        "#A = torch.rand(10, 20)\n",
        "#for i in range(len(alpha)):\n",
        "    # SOMETHING HERE\n",
        "\n",
        "# Plotting command\n"
      ],
      "metadata": {
        "id": "XCc4K0TGlBb_"
      },
      "execution_count": null,
      "outputs": []
    },
    {
      "cell_type": "markdown",
      "source": [
        "**Your answer**\n",
        "The minimum value of f is:"
      ],
      "metadata": {
        "id": "nG3KSbrNm3F3"
      }
    },
    {
      "cell_type": "markdown",
      "source": [
        "The scond order finite difference is\n",
        "$$ {\\frac {d^2u}{dx^2}} \\approx {\\frac {u_{i+1} - 2u_i + u_{i-1}}{h^2}} $$\n",
        "\n",
        "1. Write a code to compute this formula, by completeing the code below"
      ],
      "metadata": {
        "id": "xxH9O-1VnCT7"
      }
    },
    {
      "cell_type": "code",
      "source": [
        "def finite_diff2(u, h):\n",
        "  # grab the values from 1 to where you need them\n",
        "  # uL =    # YOUR CODE\n",
        "  # grab the values from 0 to where you need them\n",
        "  # uR =    # YOUR CODE\n",
        "  # grab the values for the center\n",
        "  # uM =    # YOUR CODE\n",
        "\n",
        "  # d2udx2 = (uL - 2*uM + uR)/h**2\n",
        "  # return d2udx2\n",
        "  return"
      ],
      "metadata": {
        "id": "juL-k21NlRgi"
      },
      "execution_count": null,
      "outputs": []
    },
    {
      "cell_type": "markdown",
      "source": [
        "Testing the code\n",
        "\n",
        "This code is supposed to be second order accurate. Semonstrate that by making it work on the function $u(x) = cos(x)$ where $-\\pi \\le x \\le \\pi$"
      ],
      "metadata": {
        "id": "oSajZpeHohWF"
      }
    },
    {
      "cell_type": "code",
      "source": [],
      "metadata": {
        "id": "gTk8r-Ehodfd"
      },
      "execution_count": null,
      "outputs": []
    }
  ]
}