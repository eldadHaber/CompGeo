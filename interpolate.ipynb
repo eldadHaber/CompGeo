{
  "nbformat": 4,
  "nbformat_minor": 0,
  "metadata": {
    "colab": {
      "provenance": []
    },
    "kernelspec": {
      "name": "python3",
      "display_name": "Python 3"
    },
    "language_info": {
      "name": "python"
    }
  },
  "cells": [
    {
      "cell_type": "code",
      "execution_count": 1,
      "metadata": {
        "id": "ATXMLPvZBmbE"
      },
      "outputs": [],
      "source": [
        "import numpy as np\n",
        "import torch \n",
        "import matplotlib.pyplot as plt"
      ]
    },
    {
      "cell_type": "code",
      "source": [
        "def RBF(x, y, xj, yj, sigma=1.0):\n",
        "\n",
        "  phij = torch.exp((-(x-xj)**2 - (y-yj)**2)/sigma**2)\n",
        "\n",
        "  return phij\n"
      ],
      "metadata": {
        "id": "yXGnTv99CaMQ"
      },
      "execution_count": 3,
      "outputs": []
    },
    {
      "cell_type": "code",
      "source": [
        "x = torch.linspace(-5, 5, 129)\n",
        "y = torch.linspace(-5, 5, 127)\n",
        "\n",
        "# Generate a grid\n",
        "X, Y = torch.meshgrid(x,y)\n",
        "\n",
        "xj = 0\n",
        "yj = 0\n",
        "phij = RBF(X, Y, xj, yj)\n",
        "\n",
        "plt.imshow(phij)\n",
        "plt.show()"
      ],
      "metadata": {
        "colab": {
          "base_uri": "https://localhost:8080/",
          "height": 288
        },
        "id": "lwqGxRIiDj4z",
        "outputId": "11b73c64-7109-4f72-e87a-ae2b90b37130"
      },
      "execution_count": 4,
      "outputs": [
        {
          "output_type": "display_data",
          "data": {
            "text/plain": [
              "<Figure size 432x288 with 1 Axes>"
            ],
            "image/png": "[encoded data removed]"
          },
          "metadata": {
            "needs_background": "light"
          }
        }
      ]
    },
    {
      "cell_type": "code",
      "source": [
        "def buildVDMmat(x,y):\n",
        "  # building the VDM matrix from\n",
        "  # points x1, y1, x2, y2, .....xn, yn\n",
        "\n",
        "\n",
        "  n = x.numel()\n",
        "  Phi = torch.zeros(n, n)\n",
        "\n",
        "  for j in range(n):\n",
        "    Phi[:,j] = RBF(x, y, x[j], y[j])\n",
        "  \n",
        "  return Phi"
      ],
      "metadata": {
        "id": "jNMkX4z3EGSF"
      },
      "execution_count": null,
      "outputs": []
    },
    {
      "cell_type": "code",
      "source": [
        "# test VDM matrix\n",
        "x = torch.randn(1502)\n",
        "y = torch.randn(1502)\n",
        "\n",
        "A = buildVDMmat(x,y)"
      ],
      "metadata": {
        "id": "tEancXUVJT9O"
      },
      "execution_count": null,
      "outputs": []
    },
    {
      "cell_type": "code",
      "source": [
        "plt.imshow(A)"
      ],
      "metadata": {
        "id": "-gMscCoiJo59"
      },
      "execution_count": null,
      "outputs": []
    },
    {
      "cell_type": "code",
      "source": [
        "def get_interpolation_coef(x,y,u):\n",
        "  # build VDM matrix\n",
        "  A = buildVDMmat(x,y)\n",
        "  # solve the linear system A*c = u\n",
        "  c = torch.linalg.solve(A, u)\n",
        "\n",
        "  return c"
      ],
      "metadata": {
        "id": "BukGYPYpJrQD"
      },
      "execution_count": null,
      "outputs": []
    }
  ]
}