{
  "nbformat": 4,
  "nbformat_minor": 0,
  "metadata": {
    "colab": {
      "provenance": []
    },
    "kernelspec": {
      "name": "python3",
      "display_name": "Python 3"
    }
  },
  "cells": [
    {
      "cell_type": "code",
      "metadata": {
        "id": "1k13hNUmAsyB"
      },
      "source": [
        "import torch\n",
        "import numpy as np\n",
        "import matplotlib.pyplot as plt"
      ],
      "execution_count": 1,
      "outputs": []
    },
    {
      "cell_type": "code",
      "metadata": {
        "id": "_ueBQSBGA5X4"
      },
      "source": [
        "def forwadEuler(x0, ufun, dt=0.01, n=100):\n",
        "  # x0 a vector of initial conditions\n",
        "  # ufun. a function from n to n of velocity\n",
        "  # dt time interval\n",
        "  # n - number of steps\n",
        "  # Use: x[j+1] = x[j] + dt*ufun(x[j])\n",
        "  #\n",
        "\n",
        "  k = x0.shape[0]\n",
        "  X = torch.zeros(k,n+1)\n",
        "  X[:,0] = x0\n",
        "\n",
        "  for j in range(n):\n",
        "    X[:, j+1] = X[:, j] + dt*ufun(X[:, j])\n",
        "  \n",
        "  return X\n",
        "\n",
        "\n",
        "\n"
      ],
      "execution_count": 2,
      "outputs": []
    },
    {
      "cell_type": "code",
      "metadata": {
        "id": "bsSTLvnaCFUI",
        "outputId": "809999ab-271a-448f-dcfa-a8964bba3fe3",
        "colab": {
          "base_uri": "https://localhost:8080/",
          "height": 286
        }
      },
      "source": [
        "# testing the code\n",
        "def ufun(x):\n",
        "  u = torch.zeros(2)\n",
        "  u[0] = x[1] - torch.sin(x[1])*torch.cos(x[0])\n",
        "  u[1] = -x[0]+ torch.cos(x[0])*torch.sin(x[1])\n",
        "  return u\n",
        "\n",
        "x0 = torch.tensor([2,0])\n",
        "\n",
        "X = forwadEuler(x0, ufun, dt=0.001, n=10000)\n",
        "\n",
        "plt.plot(X[0,:], X[1, :], 'r')"
      ],
      "execution_count": 3,
      "outputs": [
        {
          "output_type": "execute_result",
          "data": {
            "text/plain": [
              "[<matplotlib.lines.Line2D at 0x7f647820cbe0>]"
            ]
          },
          "metadata": {},
          "execution_count": 3
        },
        {
          "output_type": "display_data",
          "data": {
            "text/plain": [
              "<Figure size 432x288 with 1 Axes>"
            ],
            "image/png": "[encoded data removed]"
          },
          "metadata": {
            "needs_background": "light"
          }
        }
      ]
    },
    {
      "cell_type": "code",
      "metadata": {
        "id": "5zDOAF08CPjA"
      },
      "source": [],
      "execution_count": null,
      "outputs": []
    },
    {
      "cell_type": "markdown",
      "source": [
        "**Homework**\n",
        "\n",
        "1. Solve the system $y_t = A y, \\ \\ y(0) = y_0$ for the following matrices $A$ and $y_0 = [1, 1]$.\n",
        "\n",
        "  a. $$ A = \\begin{pmatrix} -2 & 1 \\\\ 1 & -2 \\end{pmatrix}$$\n",
        "\n",
        "  b. $$ A = \\begin{pmatrix} 0 & -2 \\\\ 1 & 0 \\end{pmatrix}$$\n",
        "\n",
        "  c. $$ A = \\begin{pmatrix} 3 & -2 \\\\ -2 & 0 \\end{pmatrix}$$\n",
        "\n",
        "  d. For each of these systems comment on the solution as $t\\rightarrow \\infty$.\n",
        "\n",
        "2. Given the system $y' = Ay$ with \n",
        "$$ A = -   \n",
        "\\begin{pmatrix} 1 &  1/2 &  1/3  &   1/4 & 1/5 \\\\ 1/2 &  1/3  & 1/4   &  1/5 & 1/6   \\\\  1/3 & 1/4 & 1/5 &  1/6 &  1/7  \\\\ 1/4 & 1/5 & 1/6   & \n",
        "1/7 &   1/8     \\\\ 1/5 & 1/6 &  1/7  &  1/8  &  1/9     \\end{pmatrix} $$\n",
        "What would the solution look like after a long time (not infinite).\n",
        "\n",
        "Hint, the solution is a linear combination of the eignevectors $u_j$\n",
        "given by the formula\n",
        "$$ \\sum_j c_j \\exp(\\lambda_j t) u_j $$\n",
        "where $\\lambda_j$ and $c_j$ are coeficients.\n",
        "\n",
        "\n",
        "3. The preditor prey system can be written as\n",
        "\\begin{eqnarray*}\n",
        "\\dot{x} &=& (b-py) x \\\\\n",
        "\\dot{y} &=& (rx-d) y \\\\\n",
        "\\end{eqnarray*}\n",
        "\n",
        "Given $[x(0), y(0)] = [2, 2]$ and $b=p=r=d=1.0$\n",
        "use the forward Euler code to find out what is $[x,y]$ at time $t=10000$.\n",
        "How sure are you in your answer?\n",
        "Try to estimate your error.\n",
        "\n"
      ],
      "metadata": {
        "id": "rEVcMU7ymreQ"
      }
    },
    {
      "cell_type": "code",
      "metadata": {
        "id": "b_OOkp3GDH3A"
      },
      "source": [],
      "execution_count": null,
      "outputs": []
    },
    {
      "cell_type": "code",
      "metadata": {
        "id": "5AxvdFYVDTjK"
      },
      "source": [],
      "execution_count": null,
      "outputs": []
    }
  ]
}