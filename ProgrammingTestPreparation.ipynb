{
  "nbformat": 4,
  "nbformat_minor": 0,
  "metadata": {
    "colab": {
      "provenance": []
    },
    "kernelspec": {
      "name": "python3",
      "display_name": "Python 3"
    },
    "language_info": {
      "name": "python"
    }
  },
  "cells": [
    {
      "cell_type": "code",
      "execution_count": 1,
      "metadata": {
        "id": "vzAsisfJaN8Y"
      },
      "outputs": [],
      "source": [
        "import numpy as np\n",
        "import torch\n",
        "import matplotlib.pyplot as plt"
      ]
    },
    {
      "cell_type": "code",
      "source": [],
      "metadata": {
        "id": "ttUL3i5KaUos"
      },
      "execution_count": null,
      "outputs": []
    },
    {
      "cell_type": "markdown",
      "source": [
        "**Quiz Preparation Question**\n",
        "\n",
        "1. Write a function that generates a random tensor of $n \\times n$ (n is the input). The output is the mean of the tensor.\n",
        "\n",
        "2. Write a code (for loop) that call that calls the function above with $n=2, 4, 8, 16, ... 1024$ and generate a vector $M(n)$.\n",
        "Plot the vector as a function of the log of $n$.\n",
        "\n",
        "3. Given an $n \\times m$ array write a code\n",
        "that replaces every element that is larger than 0.5 with 0.5.\n",
        "\n",
        "4. The second derivative of a function can be approximated by the finite difference\n",
        "$$ f''(x_j) = {\\frac 1 {h^2}} (f(x_{j+1}) - 2f(x_j) + f(x_{j-1})) $$\n",
        "Given a vector $f$ with values \n",
        "$f = [f(x_0), \\ldots, f(x_n)$ write a code that computes the approximation to $f''(x)$\n",
        "\n",
        "5. The power method is a method to compute the largest eigenvalue of a matrix. \n",
        "Your google search is using this method every time you perform a google search.\n",
        "\n",
        "The method consists of the iteration\n",
        "$$ v_{j+1} = {\\frac {A v_j} { \\|A v_j\\|}} $$\n",
        "where $v_j$ is a vector with $v_0$ chosen as a random vector, and $A$ is the matrix that we seek its eigenvalue/eigenvector.\n",
        "The iteration is terminated when\n",
        "$$ \\|v_{j+1} - v_j\\| < tol $$\n",
        "where tol is a specified tolerance.\n",
        "\n",
        "Write a python program that gets $A$, a matrix and tol, a tolerance and returns the estimated eigenvector $v$\n",
        "\n",
        "Note that to multiply matrix and a vector you can use the matmul(A,v) or A@v\n",
        "\n",
        "\n"
      ],
      "metadata": {
        "id": "DXYcRiWpaXqI"
      }
    },
    {
      "cell_type": "code",
      "source": [],
      "metadata": {
        "id": "cOQSYvnYcYah"
      },
      "execution_count": null,
      "outputs": []
    }
  ]
}