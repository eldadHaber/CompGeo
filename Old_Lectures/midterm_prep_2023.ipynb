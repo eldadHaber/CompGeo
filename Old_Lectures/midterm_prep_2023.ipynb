{
  "nbformat": 4,
  "nbformat_minor": 0,
  "metadata": {
    "colab": {
      "provenance": []
    },
    "kernelspec": {
      "name": "python3",
      "display_name": "Python 3"
    },
    "language_info": {
      "name": "python"
    }
  },
  "cells": [
    {
      "cell_type": "code",
      "execution_count": 1,
      "metadata": {
        "id": "kzw04k-U79Co"
      },
      "outputs": [],
      "source": [
        "import torch\n",
        "import numpy as np\n",
        "import matplotlib.pyplot as plt"
      ]
    },
    {
      "cell_type": "markdown",
      "source": [
        "Solve the following ODE's\n",
        "\n",
        "1. $y' + y = t^2\\ \\quad y(0)=1 $\n",
        "2. $y' - \\cos(t) y = \\cos(t)\\ \\quad y(0)=1  $\n",
        "3. $y' + e^t y = t^2 \\cos(t)\\ \\quad y(0)=1  $\n",
        "4. $y' - \\sin(t) y = \\sin(t) \\ \\quad y(0)=1  $\n",
        "  \n"
      ],
      "metadata": {
        "id": "g4qYpLOr8FRc"
      }
    },
    {
      "cell_type": "markdown",
      "source": [
        "In this question we turn a second order system into a first order system and solve it.\n",
        "\n",
        "Consider the second order system\n",
        "$$1. \\quad \\quad\\quad y'' + \\omega^2 y = 0 $$\n",
        "with 2 initial conditions\n",
        "$y(0) = 0 \\quad {\\rm and} \\quad y'(0) = 1$\n",
        "\n",
        "Let us define\n",
        "$$2. \\quad\\quad\\quad y' = v $$\n",
        "\n",
        "1. Write the original ODE (1) with $v'$ and $y$ (instead of $y''$).\n",
        "2. Using  the new equation, write a 2x2 first order ODE system for $(y,v)$\n",
        "3. Solve the system and use initial conditions to compute the constants\n",
        " "
      ],
      "metadata": {
        "id": "eIsCU2av98W4"
      }
    },
    {
      "cell_type": "markdown",
      "source": [
        "You are given a linear system of ODE's of the form $y' = Ay$. For each matrix $A$ analyze the behavior of the solution. To recall it can be: Exponentially increasing/decreasing, Oscilatory and increasing/decreasing, purely oscilatory, undetermined.\n",
        "\n",
        "1. $A = \\begin{pmatrix} -2 & 1 \\\\ 1 & -2 \\end{pmatrix} $\n",
        "2. $A = \\begin{pmatrix} -2 & 1 \\\\ -1 & -2 \\end{pmatrix} $\n",
        "3. $A = \\begin{pmatrix} 0 & 1 & 2 &  3 \\\\ -1 & 0  & 4 & 5 \\\\-2 & -4 & 0 & 6 \\\\-3& -5 & -6 & 0 \\end{pmatrix} $\n",
        "4.  $A = \\begin{pmatrix} -2 & 1 & 1 \\\\ 1 & -2 & 1 \\\\ 1 & 1 & -2 \\end{pmatrix}$\n",
        "\n"
      ],
      "metadata": {
        "id": "Hi5uUKTI_Z0h"
      }
    },
    {
      "cell_type": "code",
      "source": [],
      "metadata": {
        "id": "6FriFmAE8rVn"
      },
      "execution_count": null,
      "outputs": []
    },
    {
      "cell_type": "markdown",
      "source": [
        "The next question involves coding a concept and testing it.\n",
        "\n",
        "We are interested in a **forth order** accurate finite difference of the first derivative. \n",
        "\n",
        "I have asked chatGPT to give me such a code. Here is what I got\n"
      ],
      "metadata": {
        "id": "3b8F0AX5Bn2p"
      }
    },
    {
      "cell_type": "code",
      "source": [
        "import torch\n",
        "\n",
        "def first_derivative(f, x, h):\n",
        "    \"\"\"Compute the first derivative of the function `f` at the point `x` with step size `h`.\n",
        "\n",
        "    The derivative is computed using the 4th order accurate central difference formula:\n",
        "        f'(x) = (f(x + h) - f(x - h)) / (2 * h) + O(h^4)\n",
        "\n",
        "    Args:\n",
        "        f (callable): the function to compute the derivative of.\n",
        "        x (torch.Tensor): the point at which to evaluate the derivative.\n",
        "        h (torch.Tensor): the step size.\n",
        "\n",
        "    Returns:\n",
        "        torch.Tensor: the derivative of the function at the point `x`.\n",
        "    \"\"\"\n",
        "    return (f(x + h) - f(x - h)) / (2 * h)\n"
      ],
      "metadata": {
        "id": "DqH1sKW2CiX7"
      },
      "execution_count": 2,
      "outputs": []
    },
    {
      "cell_type": "markdown",
      "source": [
        "1. Design a test (and implement it) that check if the code actually approximates the derivative.\n",
        "\n",
        "2. Does the code gives 4th order accuracy? Show by example\n"
      ],
      "metadata": {
        "id": "gx88kaZ5Co-k"
      }
    },
    {
      "cell_type": "markdown",
      "source": [
        "A geochemical reaction has the form\n",
        "\\begin{eqnarray*}\n",
        "&& A + X \\rightarrow 2X \\quad (reaction\\ const\\ k_1) \\\\\n",
        "&& X + Y \\rightarrow 2Y \\quad (reaction\\ const\\ k_2) \\\\\n",
        "&& Y \\rightarrow B \\quad (reaction\\ const\\ k_3)\n",
        "\\end{eqnarray*}\n",
        "\n",
        "This corresponds to the system of equations\n",
        "\\begin{eqnarray*}\n",
        "&& a' = -k_1 ax \\\\\n",
        "&& x' = k_1ax + -k_2xy \\\\\n",
        "&& y' = k_2xy - k_3y \\\\\n",
        "&& b' = k_3 y\n",
        "\\end{eqnarray*}\n",
        "where $a = [A], b = [B], x = [X]$ and $y = [Y]$.\n",
        "\n",
        "1. Write a code with input $k = [k1, k2, k3]$ and $c = [a_0, x_0, y_0, b_0]$ that solves for the concentrations $c(t)$ of the chemicals at any given time.\n",
        "\n",
        "2. In a particular location chemical $A$ is toxic. We add chemical $X$ to start a reaction that makes $A$ non-toxic by converting it to $B$.\n",
        "A contractor wishes to build a playground on that location. For that we need $[A]$ to reduce in $99\\%$ from its initial value. If the $[A]$ does not reduces in that amount then the life of the kids playing in the playground are at risk.\n",
        "Given, $k_1=1, k_2 = 1, k_3 = 0.1$. Calculate the time that is needed to build the playground.\n",
        "\n",
        "3. How certain are you in your answer?\n",
        "Can you estimate the error in your answer? What is it?"
      ],
      "metadata": {
        "id": "xViRZVRhEE63"
      }
    },
    {
      "cell_type": "code",
      "source": [],
      "metadata": {
        "id": "_hdsstKSCkIK"
      },
      "execution_count": null,
      "outputs": []
    }
  ]
}