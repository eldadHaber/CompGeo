{
  "nbformat": 4,
  "nbformat_minor": 0,
  "metadata": {
    "colab": {
      "provenance": [],
      "authorship_tag": "ABX9TyOhOrdUMwlipLfq2s4MCyiR",
      "include_colab_link": true
    },
    "kernelspec": {
      "name": "python3",
      "display_name": "Python 3"
    },
    "language_info": {
      "name": "python"
    }
  },
  "cells": [
    {
      "cell_type": "markdown",
      "metadata": {
        "id": "view-in-github",
        "colab_type": "text"
      },
      "source": [
        "<a href=\"https://colab.research.google.com/github/eldadHaber/CompGeo2023/blob/main/Lecture1_Into2Pytorch.ipynb\" target=\"_parent\"><img src=\"https://colab.research.google.com/assets/colab-badge.svg\" alt=\"Open In Colab\"/></a>"
      ]
    },
    {
      "cell_type": "code",
      "execution_count": 1,
      "metadata": {
        "id": "cZPKeGIOoRpw"
      },
      "outputs": [],
      "source": [
        "import torch\n",
        "import numpy as np\n",
        "import matplotlib.pyplot as plt\n",
        "import math\n"
      ]
    },
    {
      "cell_type": "code",
      "source": [
        "# Arrays/Tensors and indexing\n",
        "a0 = torch.tensor([])\n",
        "a1 = torch.zeros(5)\n",
        "a2 = torch.zeros(5, 6)\n",
        "a3 = torch.zeros(4, 5, 6)\n",
        "\n",
        "print(a0.shape, a1.shape, a2.shape, a3.shape)\n"
      ],
      "metadata": {
        "colab": {
          "base_uri": "https://localhost:8080/"
        },
        "id": "0bflhuarosJ_",
        "outputId": "038b66d0-dc90-4c4b-ce7a-7b56c6904110"
      },
      "execution_count": 2,
      "outputs": [
        {
          "output_type": "stream",
          "name": "stdout",
          "text": [
            "torch.Size([0]) torch.Size([5]) torch.Size([5, 6]) torch.Size([4, 5, 6])\n"
          ]
        }
      ]
    },
    {
      "cell_type": "code",
      "source": [
        "# Special tensors\n",
        "ZeroTen = torch.zeros(2,3,4,5)\n",
        "OneTen  = torch.ones(2,1,4,5)\n",
        "RandTen = torch.randn(2,1,4,5)  # or rand\n",
        "\n",
        "# Initializing tensor with some numbers\n",
        "A = torch.tensor([[1.0,2,3],[4,5,6]])\n",
        "print(A)\n",
        "print(A.shape)"
      ],
      "metadata": {
        "colab": {
          "base_uri": "https://localhost:8080/"
        },
        "id": "U4IwBQnVpI1-",
        "outputId": "ba75ad82-508b-477d-9c57-9b72cf8a982d"
      },
      "execution_count": 3,
      "outputs": [
        {
          "output_type": "stream",
          "name": "stdout",
          "text": [
            "tensor([[1., 2., 3.],\n",
            "        [4., 5., 6.]])\n",
            "torch.Size([2, 3])\n"
          ]
        }
      ]
    },
    {
      "cell_type": "code",
      "source": [
        "# changing/adding dimension\n",
        "A = A.unsqueeze(0)\n",
        "print(A.shape)\n",
        "A = A.squeeze(0)\n",
        "print(A.shape)\n",
        "A = A.unsqueeze(-1)\n",
        "print(A.shape)\n",
        "\n",
        "# Stacking tensors and repeating them\n",
        "A = torch.repeat_interleave(A, 5, dim=-1)\n",
        "print('shape of A after stacking', A.shape)\n"
      ],
      "metadata": {
        "colab": {
          "base_uri": "https://localhost:8080/"
        },
        "id": "8JsqjqH6p2F4",
        "outputId": "a21d7f95-baa6-4e30-d9f5-3b9faadeaac8"
      },
      "execution_count": 4,
      "outputs": [
        {
          "output_type": "stream",
          "name": "stdout",
          "text": [
            "torch.Size([1, 2, 3])\n",
            "torch.Size([2, 3])\n",
            "torch.Size([2, 3, 1])\n",
            "shape of A after stacking torch.Size([2, 3, 5])\n"
          ]
        }
      ]
    },
    {
      "cell_type": "code",
      "source": [
        "# Access the tensor\n",
        "print(A[1,2,4])\n",
        "\n",
        "print(A[0,0,:])  # the full last dim\n",
        "print(A[0,:,0])  # the full first dim\n",
        "print(A[:,0,0])  # the full zero's dim\n",
        "\n"
      ],
      "metadata": {
        "colab": {
          "base_uri": "https://localhost:8080/"
        },
        "id": "TjD11D6UrZuo",
        "outputId": "26e89f88-03ad-4a3c-c4f0-1070aa676056"
      },
      "execution_count": 5,
      "outputs": [
        {
          "output_type": "stream",
          "name": "stdout",
          "text": [
            "tensor(6.)\n",
            "tensor([1., 1., 1., 1., 1.])\n",
            "tensor([1., 2., 3.])\n",
            "tensor([1., 4.])\n"
          ]
        }
      ]
    },
    {
      "cell_type": "markdown",
      "source": [
        "Class activity\n",
        "\n",
        "Generate a 4D tensor of size 5,10,15,20\n",
        "where for every i, j, k we have that\n",
        "A[i, :, j, k] = [0, 1,2,3,4,5,6,7,8,9]"
      ],
      "metadata": {
        "id": "sb3zE_0Tq3a2"
      }
    },
    {
      "cell_type": "code",
      "source": [
        "# More tensor operations\n",
        "n = A.numel() # Number of elements\n",
        "a = A.mean()  # same as A.sum()/A.numel()\n",
        "a0 = A.mean(dim=0)\n",
        "a1 = A.mean(dim=1)\n",
        "\n",
        "avec = A.flatten() # or A.view(-1)\n",
        "print(A)\n",
        "print(avec)"
      ],
      "metadata": {
        "colab": {
          "base_uri": "https://localhost:8080/"
        },
        "id": "cGQOkJJcqbY5",
        "outputId": "a477905b-da0a-4746-d165-932ef4aebe54"
      },
      "execution_count": 6,
      "outputs": [
        {
          "output_type": "stream",
          "name": "stdout",
          "text": [
            "tensor([[[1., 1., 1., 1., 1.],\n",
            "         [2., 2., 2., 2., 2.],\n",
            "         [3., 3., 3., 3., 3.]],\n",
            "\n",
            "        [[4., 4., 4., 4., 4.],\n",
            "         [5., 5., 5., 5., 5.],\n",
            "         [6., 6., 6., 6., 6.]]])\n",
            "tensor([1., 1., 1., 1., 1., 2., 2., 2., 2., 2., 3., 3., 3., 3., 3., 4., 4., 4.,\n",
            "        4., 4., 5., 5., 5., 5., 5., 6., 6., 6., 6., 6.])\n"
          ]
        }
      ]
    },
    {
      "cell_type": "code",
      "source": [
        "# Accesing parts of the array\n",
        "print('A = ', A)\n",
        "A1 = A[1:, :, :] # or  A[1:, None, None]\n",
        "print('A1 = ', A1)\n",
        "A2 = A[:-1, :, :] # \n",
        "print('A2 = ', A2)\n",
        "\n",
        "A3 = A[:, :, [1,3]]\n",
        "print('A3 = ', A3)"
      ],
      "metadata": {
        "colab": {
          "base_uri": "https://localhost:8080/"
        },
        "id": "2LcDUC0Uso2i",
        "outputId": "e233cee8-f369-4627-a60b-c4fde6515fc1"
      },
      "execution_count": 7,
      "outputs": [
        {
          "output_type": "stream",
          "name": "stdout",
          "text": [
            "A =  tensor([[[1., 1., 1., 1., 1.],\n",
            "         [2., 2., 2., 2., 2.],\n",
            "         [3., 3., 3., 3., 3.]],\n",
            "\n",
            "        [[4., 4., 4., 4., 4.],\n",
            "         [5., 5., 5., 5., 5.],\n",
            "         [6., 6., 6., 6., 6.]]])\n",
            "A1 =  tensor([[[4., 4., 4., 4., 4.],\n",
            "         [5., 5., 5., 5., 5.],\n",
            "         [6., 6., 6., 6., 6.]]])\n",
            "A2 =  tensor([[[1., 1., 1., 1., 1.],\n",
            "         [2., 2., 2., 2., 2.],\n",
            "         [3., 3., 3., 3., 3.]]])\n",
            "A3 =  tensor([[[1., 1.],\n",
            "         [2., 2.],\n",
            "         [3., 3.]],\n",
            "\n",
            "        [[4., 4.],\n",
            "         [5., 5.],\n",
            "         [6., 6.]]])\n"
          ]
        }
      ]
    },
    {
      "cell_type": "code",
      "source": [
        "# Logical operations\n",
        "A = torch.randn(4,5)\n",
        "T = A>0\n",
        "print(T)"
      ],
      "metadata": {
        "colab": {
          "base_uri": "https://localhost:8080/"
        },
        "id": "pQIloftqtK6q",
        "outputId": "191e23f9-8c0a-4e10-e4fc-01001637b018"
      },
      "execution_count": 8,
      "outputs": [
        {
          "output_type": "stream",
          "name": "stdout",
          "text": [
            "tensor([[ True,  True,  True,  True,  True],\n",
            "        [False,  True, False, False,  True],\n",
            "        [ True, False,  True,  True,  True],\n",
            "        [ True,  True,  True, False, False]])\n"
          ]
        }
      ]
    },
    {
      "cell_type": "code",
      "source": [
        "# Indexing with logical operations\n",
        "a = torch.arange(7,7+12)\n",
        "print(a)\n",
        "A = torch.reshape(a, [3, 4])\n",
        "print(A)\n",
        "\n",
        "T = A>12\n",
        "print(T)\n",
        "\n",
        "B = A[T]\n",
        "D = T*A\n",
        "print(B)\n",
        "print(D)"
      ],
      "metadata": {
        "colab": {
          "base_uri": "https://localhost:8080/"
        },
        "id": "_lwKL5QztqGu",
        "outputId": "efb68e31-6c78-43ac-a60f-0c212bf12d4f"
      },
      "execution_count": 9,
      "outputs": [
        {
          "output_type": "stream",
          "name": "stdout",
          "text": [
            "tensor([ 7,  8,  9, 10, 11, 12, 13, 14, 15, 16, 17, 18])\n",
            "tensor([[ 7,  8,  9, 10],\n",
            "        [11, 12, 13, 14],\n",
            "        [15, 16, 17, 18]])\n",
            "tensor([[False, False, False, False],\n",
            "        [False, False,  True,  True],\n",
            "        [ True,  True,  True,  True]])\n",
            "tensor([13, 14, 15, 16, 17, 18])\n",
            "tensor([[ 0,  0,  0,  0],\n",
            "        [ 0,  0, 13, 14],\n",
            "        [15, 16, 17, 18]])\n"
          ]
        }
      ]
    },
    {
      "cell_type": "markdown",
      "source": [
        "Class activity\n",
        "\n",
        "Generate a random tensor $A$ os size $10 \\times 11 \\times 12$.\n",
        "Find the location of all the entries that are bigger than $0$.\n",
        "Return a tensor with $0$ on these locations\n",
        "and the origianl number otherwise"
      ],
      "metadata": {
        "id": "vrHbV2lK7D-w"
      }
    },
    {
      "cell_type": "code",
      "source": [
        "# More special arrays\n",
        "x = torch.arange(4)\n",
        "print('x = ', x)\n",
        "y = torch.arange(5)\n",
        "print('y = ', y)\n",
        "\n",
        "[X, Y] = torch.meshgrid(x,y)\n",
        "print('X = ',X)\n",
        "print('Y = ',Y)\n"
      ],
      "metadata": {
        "colab": {
          "base_uri": "https://localhost:8080/"
        },
        "id": "s04NRxlHuc4t",
        "outputId": "62826b5f-49c4-46ce-e90a-f5e76bd07e9b"
      },
      "execution_count": 10,
      "outputs": [
        {
          "output_type": "stream",
          "name": "stdout",
          "text": [
            "x =  tensor([0, 1, 2, 3])\n",
            "y =  tensor([0, 1, 2, 3, 4])\n",
            "X =  tensor([[0, 0, 0, 0, 0],\n",
            "        [1, 1, 1, 1, 1],\n",
            "        [2, 2, 2, 2, 2],\n",
            "        [3, 3, 3, 3, 3]])\n",
            "Y =  tensor([[0, 1, 2, 3, 4],\n",
            "        [0, 1, 2, 3, 4],\n",
            "        [0, 1, 2, 3, 4],\n",
            "        [0, 1, 2, 3, 4]])\n"
          ]
        },
        {
          "output_type": "stream",
          "name": "stderr",
          "text": [
            "/usr/local/lib/python3.8/dist-packages/torch/functional.py:504: UserWarning: torch.meshgrid: in an upcoming release, it will be required to pass the indexing argument. (Triggered internally at ../aten/src/ATen/native/TensorShape.cpp:3190.)\n",
            "  return _VF.meshgrid(tensors, **kwargs)  # type: ignore[attr-defined]\n"
          ]
        }
      ]
    },
    {
      "cell_type": "code",
      "source": [
        "# Array operation\n",
        "Z = X*Y         # Pointwise multiplication\n",
        "Z = (X**2)*Y\n",
        "Z = torch.sin(X)*torch.cos(Y)\n",
        "Z = torch.abs(X)"
      ],
      "metadata": {
        "id": "R_mkp_gkvZXA"
      },
      "execution_count": 11,
      "outputs": []
    },
    {
      "cell_type": "code",
      "source": [
        "# Example - generating the matlab function\n",
        "x = torch.arange(57)\n",
        "y = torch.arange(58)\n",
        "# Make them from -3,3\n",
        "x = 6*((x/x.max())-0.5)\n",
        "y = 6*((y/y.max())-0.5)\n",
        "\n",
        "[X, Y] = torch.meshgrid(x,y)\n",
        "\n",
        "Z =  3*(1-X)**2 * torch.exp(-(X**2) - (Y+1)**2) \\\n",
        "  - 10*(X/5 - X**3 - Y**5)*torch.exp(-X**2-Y**2) \\\n",
        "   - 1/3*torch.exp(-(X+1)**2 - Y**2)\n",
        "\n",
        "plt.imshow(Z)"
      ],
      "metadata": {
        "colab": {
          "base_uri": "https://localhost:8080/",
          "height": 285
        },
        "id": "Bw0MGdfTvvjs",
        "outputId": "4c14865c-42de-414a-b0d2-f1a20ef25830"
      },
      "execution_count": 12,
      "outputs": [
        {
          "output_type": "execute_result",
          "data": {
            "text/plain": [
              "<matplotlib.image.AxesImage at 0x7f1b963abf70>"
            ]
          },
          "metadata": {},
          "execution_count": 12
        },
        {
          "output_type": "display_data",
          "data": {
            "text/plain": [
              "<Figure size 432x288 with 1 Axes>"
            ],
            "image/png": "[encoded data removed]"
          },
          "metadata": {
            "needs_background": "light"
          }
        }
      ]
    },
    {
      "cell_type": "code",
      "source": [
        "# More plotting\n",
        "x = torch.linspace(0,2*np.pi, 257)\n",
        "u = x*torch.sin(5*x)\n",
        "v = x*torch.cos(5*x)\n",
        "\n",
        "plt.plot(u,v)"
      ],
      "metadata": {
        "colab": {
          "base_uri": "https://localhost:8080/",
          "height": 283
        },
        "id": "rH0iTXBhw1Cb",
        "outputId": "565ef5cb-4a24-4e66-d14a-fc3a2267072c"
      },
      "execution_count": 13,
      "outputs": [
        {
          "output_type": "execute_result",
          "data": {
            "text/plain": [
              "[<matplotlib.lines.Line2D at 0x7f1b95f02d30>]"
            ]
          },
          "metadata": {},
          "execution_count": 13
        },
        {
          "output_type": "display_data",
          "data": {
            "text/plain": [
              "<Figure size 432x288 with 1 Axes>"
            ],
            "image/png": "[encoded data removed]"
          },
          "metadata": {
            "needs_background": "light"
          }
        }
      ]
    },
    {
      "cell_type": "code",
      "source": [
        "# loops\n",
        "A = torch.rand(6,2,3)\n",
        "for i in range(5):\n",
        "  A[i+1, :, :] = A[i, :, :]*A[i+1, :, :]\n",
        "\n",
        "print(A)"
      ],
      "metadata": {
        "colab": {
          "base_uri": "https://localhost:8080/"
        },
        "id": "hPtkSfPuz8TA",
        "outputId": "797eb40e-55f1-4d82-d348-950993b43824"
      },
      "execution_count": 14,
      "outputs": [
        {
          "output_type": "stream",
          "name": "stdout",
          "text": [
            "tensor([[[2.8667e-01, 6.0383e-02, 7.1158e-01],\n",
            "         [8.0774e-01, 3.1776e-01, 5.8678e-01]],\n",
            "\n",
            "        [[2.5516e-01, 5.4448e-02, 1.5260e-01],\n",
            "         [5.9220e-01, 3.2916e-02, 1.7659e-03]],\n",
            "\n",
            "        [[2.2774e-01, 3.6538e-02, 3.9769e-02],\n",
            "         [1.5841e-01, 3.2358e-02, 1.7536e-03]],\n",
            "\n",
            "        [[4.0127e-02, 2.0139e-02, 9.4770e-03],\n",
            "         [1.5391e-01, 2.2338e-03, 1.7293e-03]],\n",
            "\n",
            "        [[2.6628e-02, 1.1533e-02, 6.6209e-03],\n",
            "         [8.6008e-02, 2.1392e-03, 9.7965e-04]],\n",
            "\n",
            "        [[2.1596e-02, 1.0270e-02, 1.0460e-03],\n",
            "         [3.2519e-02, 3.4537e-04, 2.5921e-04]]])\n"
          ]
        }
      ]
    },
    {
      "cell_type": "code",
      "source": [
        "# loops\n",
        "A = torch.rand(8,2,3)\n",
        "n = A.shape[0]\n",
        "# Allocate memory for p\n",
        "p = torch.zeros(n)\n",
        "for i in range(n):\n",
        "  p[i] = (A[i, :, :]**i).mean()\n",
        "\n",
        "print(p)"
      ],
      "metadata": {
        "colab": {
          "base_uri": "https://localhost:8080/"
        },
        "id": "aSRTr3PK0kA2",
        "outputId": "db4c7c66-875f-4663-9940-fb0cb9a14151"
      },
      "execution_count": 15,
      "outputs": [
        {
          "output_type": "stream",
          "name": "stdout",
          "text": [
            "tensor([1.0000, 0.5294, 0.2071, 0.5079, 0.0814, 0.0561, 0.1372, 0.0730])\n"
          ]
        }
      ]
    },
    {
      "cell_type": "markdown",
      "source": [
        "Homework\n",
        "\n",
        "1. Generate a random (pos and neg) tensor, $A$, of size $100 \\times 100$. Find all its entries that are bigger than $m = 0.5$. What is their mean?\n",
        "\n",
        "2. Use a loop and compute the same entries as above for m = [0, 0.1, 0.2, 0.3, 0.4, 0.5, 0.6, 0.7, 0.8, 0.9]\n",
        "\n",
        "3. The command torch.dot(u,v) computes the dot product between 2 1D tensors. In a single line write the dot product of A = torch.randn(3,4,5) and B = torch.randn(3,4,5)\n",
        "\n",
        "4. Given A = torch.randn(3,4,5), compute the dot product of the A[2, :, :] and A[0,:,:]\n",
        "\n",
        "5. (HARD) Given A = torch.randn(3,4,5), compute EVERY dot product (for i, j, k, s) of the form A[:, i, j] and A[:,k,s]  (hint, you will more than a single loop) and store it in an appropriate size tensor\n",
        "\n",
        "6. The solution of the wave equation \n",
        "$$ u_{tt} = u_{xx} $$\n",
        "is given by \n",
        "$$ u(x,t) = {\\frac 12}(f(x+t) + f(x-t)) $$\n",
        "where $f(x) = u(x,0)$.\n",
        "If $u(x,0) = \\exp(-10x^2) \\sin(x)$\n",
        "plot the solution for $t = 0$, $t=1$ and $t=10$\n",
        "\n",
        "7. Plot the function \n",
        "$$ z = \\exp(-10(x^2+y^2))\\sin(2\\pi x)\\sin(2\\pi y) $$\n",
        "\n",
        "\n",
        "\n"
      ],
      "metadata": {
        "id": "CZ5oAwrlyEbE"
      }
    },
    {
      "cell_type": "code",
      "source": [],
      "metadata": {
        "id": "pdKlSPf2xtCF"
      },
      "execution_count": 15,
      "outputs": []
    }
  ]
}